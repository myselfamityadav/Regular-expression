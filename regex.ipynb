{
  "nbformat": 4,
  "nbformat_minor": 0,
  "metadata": {
    "colab": {
      "name": "regex.ipynb",
      "provenance": [],
      "collapsed_sections": []
    },
    "kernelspec": {
      "name": "python3",
      "display_name": "Python 3"
    },
    "language_info": {
      "name": "python"
    }
  },
  "cells": [
    {
      "cell_type": "markdown",
      "metadata": {
        "id": "pTelFlMEjODW"
      },
      "source": [
        "# **Author** **name**-**Amit** **Kumar** **Yadav**\n",
        "# **Topic**-**Regular** expression"
      ]
    },
    {
      "cell_type": "markdown",
      "metadata": {
        "id": "QSmQtO3DjddM"
      },
      "source": [
        "# 1) finditer()"
      ]
    },
    {
      "cell_type": "code",
      "metadata": {
        "colab": {
          "base_uri": "https://localhost:8080/"
        },
        "id": "kWucAJWDhRTC",
        "outputId": "f2b7e59b-f8e4-4a29-92d1-f39fda46ff74"
      },
      "source": [
        "import re\n",
        "matcher=re.finditer('ab', 'abaaabafvhhjab')\n",
        "count=0\n",
        "\n",
        "for m in matcher:\n",
        "  count+=1\n",
        "  print(m.start(),m.end(),m.group())\n",
        "\n",
        "print('count:',count)"
      ],
      "execution_count": 11,
      "outputs": [
        {
          "output_type": "stream",
          "text": [
            "0 2 ab\n",
            "4 6 ab\n",
            "12 14 ab\n",
            "count: 3\n"
          ],
          "name": "stdout"
        }
      ]
    },
    {
      "cell_type": "code",
      "metadata": {
        "colab": {
          "base_uri": "https://localhost:8080/"
        },
        "id": "923jF2pqiKKe",
        "outputId": "2efaeeca-640f-4dc5-c054-254fa91d795b"
      },
      "source": [
        "import re\n",
        "\n",
        "matcher=re.finditer('ab','ababababababababcccababa')\n",
        "count=0\n",
        "for m in matcher:\n",
        "  count+=1\n",
        "  print('match is at:{},end:{},pattern found:{}'.format(m.start(),m.end(),m.group(),))\n",
        "print('total count:',count)\n",
        "\n"
      ],
      "execution_count": 50,
      "outputs": [
        {
          "output_type": "stream",
          "text": [
            "match is at:0,end:2,pattern found:ab\n",
            "match is at:2,end:4,pattern found:ab\n",
            "match is at:4,end:6,pattern found:ab\n",
            "match is at:6,end:8,pattern found:ab\n",
            "match is at:8,end:10,pattern found:ab\n",
            "match is at:10,end:12,pattern found:ab\n",
            "match is at:12,end:14,pattern found:ab\n",
            "match is at:14,end:16,pattern found:ab\n",
            "match is at:19,end:21,pattern found:ab\n",
            "match is at:21,end:23,pattern found:ab\n",
            "total count: 10\n"
          ],
          "name": "stdout"
        }
      ]
    },
    {
      "cell_type": "code",
      "metadata": {
        "colab": {
          "base_uri": "https://localhost:8080/"
        },
        "id": "5XLDLD3Zj2tP",
        "outputId": "1a9b1a34-f1e3-485c-9073-934febd54c07"
      },
      "source": [
        "import re\n",
        "pattern=input(\"Enter a pattern:\")\n",
        "string=input(\"Enter a string:\")\n",
        "\n",
        "matcher=re.finditer(pattern,string)\n",
        "count=0\n",
        "for m in matcher:\n",
        "  count+=1\n",
        "  print(\"match is at:{} ,end:{},pattern match:{}\".format(m.start(),m.end(),m.group()))\n",
        "print(\"total count is\",count)"
      ],
      "execution_count": 1,
      "outputs": [
        {
          "output_type": "stream",
          "text": [
            "Enter a pattern:a*\n",
            "Enter a string:aaaaabvccxza\n",
            "match is at:0 ,end:5,pattern match:aaaaa\n",
            "match is at:5 ,end:5,pattern match:\n",
            "match is at:6 ,end:6,pattern match:\n",
            "match is at:7 ,end:7,pattern match:\n",
            "match is at:8 ,end:8,pattern match:\n",
            "match is at:9 ,end:9,pattern match:\n",
            "match is at:10 ,end:10,pattern match:\n",
            "match is at:11 ,end:12,pattern match:a\n",
            "match is at:12 ,end:12,pattern match:\n",
            "total count is 9\n"
          ],
          "name": "stdout"
        }
      ]
    },
    {
      "cell_type": "code",
      "metadata": {
        "colab": {
          "base_uri": "https://localhost:8080/"
        },
        "id": "RTsEpgBym7NE",
        "outputId": "8f5b966b-9fea-471b-aeaf-5b41caba0cfa"
      },
      "source": [
        "import re\n",
        "pattern=input(\"Enter a pattern:\")\n",
        "string=input(\"Enter a string:\")\n",
        "\n",
        "matcher=re.finditer(pattern,string)\n",
        "count=0\n",
        "for m in matcher:\n",
        "  count+=1\n",
        "  print(\"match is at:{} ,end:{},pattern match:{}\".format(m.start(),m.end(),m.group()))\n",
        "print(\"total count is\",count)"
      ],
      "execution_count": 2,
      "outputs": [
        {
          "output_type": "stream",
          "text": [
            "Enter a pattern:a+\n",
            "Enter a string:aaaahdfaadxa\n",
            "match is at:0 ,end:4,pattern match:aaaa\n",
            "match is at:7 ,end:9,pattern match:aa\n",
            "match is at:11 ,end:12,pattern match:a\n",
            "total count is 3\n"
          ],
          "name": "stdout"
        }
      ]
    },
    {
      "cell_type": "markdown",
      "metadata": {
        "id": "eskIzNw0OaQK"
      },
      "source": [
        "# 2) Match()"
      ]
    },
    {
      "cell_type": "code",
      "metadata": {
        "colab": {
          "base_uri": "https://localhost:8080/"
        },
        "id": "k273zypUOTSV",
        "outputId": "ba9286bd-3569-458b-d760-8a71b34d1459"
      },
      "source": [
        "import re\n",
        "\n",
        "regex=input(\"Enter a pattern:-\")\n",
        "target=input(\"Enter a string:-\")\n",
        "\n",
        "m=re.match(regex,target)\n",
        "count=0\n",
        "if m==0:\n",
        "  print(\"Match is not availabe at the begining of the string !\")\n",
        "else:\n",
        "  count+=1\n",
        "  print(\"Match found at the begining of the string\")\n",
        "  print(\"Match is at:{},end:{},pattern found:{}\".format(m.start(),m.end(),m.group()))\n",
        "print(\"total count:-\",count)"
      ],
      "execution_count": 7,
      "outputs": [
        {
          "output_type": "stream",
          "text": [
            "Enter a pattern:-a+\n",
            "Enter a string:-abcdefg\n",
            "Match found at the begining of the string\n",
            "Match is at:0,end:1,pattern found:a\n",
            "total count:- 1\n"
          ],
          "name": "stdout"
        }
      ]
    },
    {
      "cell_type": "code",
      "metadata": {
        "colab": {
          "base_uri": "https://localhost:8080/"
        },
        "id": "dLVwHuOUP_tY",
        "outputId": "6d5e4684-643c-497c-d1cf-fad171e7a515"
      },
      "source": [
        "import re\n",
        "\n",
        "regex=input(\"Enter a pattern:-\")\n",
        "target=input(\"Enter a string:-\")\n",
        "\n",
        "m=re.match(regex,target)\n",
        "print(type(m))\n",
        "count=0\n",
        "if m == None:\n",
        "  print(\"Match is not availabe at the begining of the string !\")\n",
        "else:\n",
        "  count+=1\n",
        "  print(\"Match found at the begining of the string\")\n",
        "  print(\"Match is at:{},end:{},pattern found:{}\".format(m.start(),m.end(),m.group()))\n",
        "print(\"total count:-\",count)"
      ],
      "execution_count": 13,
      "outputs": [
        {
          "output_type": "stream",
          "text": [
            "Enter a pattern:-a\n",
            "Enter a string:-bcabvcabga\n",
            "<class 'NoneType'>\n",
            "Match is not availabe at the begining of the string !\n",
            "total count:- 0\n"
          ],
          "name": "stdout"
        }
      ]
    },
    {
      "cell_type": "markdown",
      "metadata": {
        "id": "S0tfsqerR_1n"
      },
      "source": [
        "# 3)Search"
      ]
    },
    {
      "cell_type": "code",
      "metadata": {
        "colab": {
          "base_uri": "https://localhost:8080/"
        },
        "id": "AQiTFshMQ3lH",
        "outputId": "f77ad5aa-c780-4a48-a503-00d744a0c880"
      },
      "source": [
        "import re\n",
        "regex=input(\"Enter a pattern:-\")\n",
        "target=input(\"Enter a string:-\")\n",
        "m=re.search(regex,target)\n",
        "count=0\n",
        "if m!= None:\n",
        "  count+=1\n",
        "  print('Match found')\n",
        "  print(\"Match at:{},end:{},pattern found:{}\".format(m.start(),m.end(),m.group()))\n",
        "else:\n",
        "  print(\"There is no match found\")\n",
        "print(\"total count:-\",count)\n"
      ],
      "execution_count": 17,
      "outputs": [
        {
          "output_type": "stream",
          "text": [
            "Enter a pattern:-bcd\n",
            "Enter a string:-abcdefgbcd\n",
            "Match found\n",
            "Match at:1,end:4,pattern found:bcd\n",
            "total count:- 1\n"
          ],
          "name": "stdout"
        }
      ]
    },
    {
      "cell_type": "markdown",
      "metadata": {
        "id": "8PuZVf75UP2v"
      },
      "source": [
        "# 4) Match VS Search"
      ]
    },
    {
      "cell_type": "code",
      "metadata": {
        "colab": {
          "base_uri": "https://localhost:8080/"
        },
        "id": "USNTY7JXTZdV",
        "outputId": "39a2f90d-4c62-4d99-86e9-591cde976e4c"
      },
      "source": [
        "import re\n",
        "target='dogs are better than cats'\n",
        "pattern='dogs'\n",
        "\n",
        "m=re.match(pattern,target)\n",
        "\n",
        "if m == None:\n",
        "  print(\"No match\")\n",
        "else:\n",
        "  print(\"match success\")\n",
        "  print(\"  \")\n",
        "\n",
        "m=re.search(pattern,target)\n",
        "\n",
        "if m == None:\n",
        "  print(\"no search\")\n",
        "else:\n",
        "  print('search success')"
      ],
      "execution_count": 19,
      "outputs": [
        {
          "output_type": "stream",
          "text": [
            "match success\n",
            "  \n",
            "search success\n"
          ],
          "name": "stdout"
        }
      ]
    },
    {
      "cell_type": "markdown",
      "metadata": {
        "id": "2RWey4IwYPrW"
      },
      "source": [
        "# 5) Findall()"
      ]
    },
    {
      "cell_type": "code",
      "metadata": {
        "colab": {
          "base_uri": "https://localhost:8080/"
        },
        "id": "UJ_tPXAhVnKI",
        "outputId": "e1205afe-6c6d-443d-da55-2274ee05beae"
      },
      "source": [
        "import re\n",
        "lst=re.findall('[0-9]','0@km29-1')\n",
        "print(lst)"
      ],
      "execution_count": 20,
      "outputs": [
        {
          "output_type": "stream",
          "text": [
            "['0', '2', '9', '1']\n"
          ],
          "name": "stdout"
        }
      ]
    },
    {
      "cell_type": "code",
      "metadata": {
        "colab": {
          "base_uri": "https://localhost:8080/"
        },
        "id": "fZ1yok9mYmiM",
        "outputId": "9e325415-9b38-423a-f584-76292cbc0804"
      },
      "source": [
        "#how to print all the unique variable in the string\n",
        "\n",
        "target='abkdkgasgfiygcfcufdghvaadassc'\n",
        "regex='[a-z]'\n",
        "unique=re.findall(regex,target)\n",
        "print(\"all match\",unique)\n",
        "print('')\n",
        "print(\"unique match\",set(unique))"
      ],
      "execution_count": 27,
      "outputs": [
        {
          "output_type": "stream",
          "text": [
            "all match ['a', 'b', 'k', 'd', 'k', 'g', 'a', 's', 'g', 'f', 'i', 'y', 'g', 'c', 'f', 'c', 'u', 'f', 'd', 'g', 'h', 'v', 'a', 'a', 'd', 'a', 's', 's', 'c']\n",
            "\n",
            "unique match {'g', 'h', 'a', 'v', 's', 'f', 'i', 'u', 'y', 'b', 'd', 'c', 'k'}\n"
          ],
          "name": "stdout"
        }
      ]
    },
    {
      "cell_type": "markdown",
      "metadata": {
        "id": "Spbs99irZnRZ"
      },
      "source": [
        "# 6) Search and Replace"
      ]
    },
    {
      "cell_type": "code",
      "metadata": {
        "colab": {
          "base_uri": "https://localhost:8080/"
        },
        "id": "KEU6wDdDZLFG",
        "outputId": "2d5411a8-5bc0-4203-8aec-f3ee3c6f8eeb"
      },
      "source": [
        "#re.sub(pattern,replacement,target)\n",
        "\n",
        "import re\n",
        "\n",
        "s=re.sub('\\d',\"#\",'a7b6c5d4e3f2g1')   #Number will replace with '#'\n",
        "print(s)"
      ],
      "execution_count": 29,
      "outputs": [
        {
          "output_type": "stream",
          "text": [
            "a#b#c#d#e#f#g#\n"
          ],
          "name": "stdout"
        }
      ]
    },
    {
      "cell_type": "markdown",
      "metadata": {
        "id": "OaFZv_XKaUVQ"
      },
      "source": [
        "# 7) Split()"
      ]
    },
    {
      "cell_type": "code",
      "metadata": {
        "colab": {
          "base_uri": "https://localhost:8080/"
        },
        "id": "EK-5Vi-YaC88",
        "outputId": "d47feef6-9a37-4657-ba2f-3817d61b99f4"
      },
      "source": [
        "import re\n",
        "l=re.split('-','I-learn-python-regex')\n",
        "print(l)"
      ],
      "execution_count": 30,
      "outputs": [
        {
          "output_type": "stream",
          "text": [
            "['I', 'learn', 'python', 'regex']\n"
          ],
          "name": "stdout"
        }
      ]
    },
    {
      "cell_type": "code",
      "metadata": {
        "colab": {
          "base_uri": "https://localhost:8080/"
        },
        "id": "ci8jIyCueYPc",
        "outputId": "fa265b56-5809-4c0f-d2c4-441f7710d1d5"
      },
      "source": [
        "import re\n",
        "l=re.split('\\W','abcdefg@gmail.com')\n",
        "print(l)"
      ],
      "execution_count": 31,
      "outputs": [
        {
          "output_type": "stream",
          "text": [
            "['abcdefg', 'gmail', 'com']\n"
          ],
          "name": "stdout"
        }
      ]
    },
    {
      "cell_type": "code",
      "metadata": {
        "colab": {
          "base_uri": "https://localhost:8080/"
        },
        "id": "PXcIYPscepWA",
        "outputId": "8ca6fb1b-c035-4326-e89f-55628ac722f1"
      },
      "source": [
        "import re\n",
        "l=re.split('[.]','www.facebook.com')\n",
        "print(l)"
      ],
      "execution_count": 33,
      "outputs": [
        {
          "output_type": "stream",
          "text": [
            "['www', 'facebook', 'com']\n"
          ],
          "name": "stdout"
        }
      ]
    },
    {
      "cell_type": "code",
      "metadata": {
        "id": "YO1DEIrbewqe"
      },
      "source": [
        ""
      ],
      "execution_count": null,
      "outputs": []
    }
  ]
}